{
 "cells": [
  {
   "cell_type": "markdown",
   "metadata": {},
   "source": [
    "## Relationship between U.S. corporate oil extraction profits and Saudi Arabia oil production"
   ]
  },
  {
   "cell_type": "markdown",
   "metadata": {},
   "source": [
    "Understanding the relationship between U.S. corporate oil extraction profits and Saudi Arabia oil production would help businesses predict shocks to global oil prices and prepare accordingly. Oil price fluctuations impact transportation and manufacturing costs. Increases in these costs can cripple unprepared businesses. A model that can predict changes in oil prices would help businesses forecast future costs.\n",
    "\n",
    "I would like to expand the data included in this analysis in at least two ways. First, I would like to incorporate more years of observations. Second, I want to add other countries of interest including Russia and OPEC countries like Iran, the United Arab Emirates, and Venezuela to look for relationships of interest in this analysis. This data may help to explain trends in U.S. corporate oil extraction profits and Saudi Arabia oil production choices.\n",
    "\n",
    "For example, Iran's re-entrance into the global oil community in 2015 may have been an incentive for Saudi Arabia to break from a critical trend that I found in this data analysis: a positive relationship between U.S. corporate profits and Saudi oil production. Similar to the recent price war between Saudi Arabia and Russia, Saudi Arabia may act more aggressively by pumping up oil production during periods of stress on demand or when other oil producing countries are less cooperative in the global market.\n",
    "\n",
    "Positive relationships between U.S. corporate profits and production could indicate cooperation. At the same time, negative relationships could identify weakened relationships between the USA and the country of interest. This data could therefore be used to construct relationship maps to be used in political science critiques. Further, the analysis is a crucial step in building a predictive model of global oil prices.\n",
    "\n",
    "Data for Corporate profits before tax: Oil and gas extraction: https://fred.stlouisfed.org/series/N3007C0A144NBEA\n",
    "\n",
    "Data for Saudi Arabia Oil Production: https://alfred.stlouisfed.org/series?seid=SAUNGDPMOMBD"
   ]
  },
  {
   "cell_type": "code",
   "execution_count": 10,
   "metadata": {},
   "outputs": [],
   "source": [
    "import pandas as pd\n",
    "import matplotlib.pyplot as plt\n",
    "from pandas.plotting import register_matplotlib_converters\n",
    "import statsmodels.api as sm"
   ]
  },
  {
   "cell_type": "code",
   "execution_count": 2,
   "metadata": {},
   "outputs": [],
   "source": [
    "register_matplotlib_converters()"
   ]
  },
  {
   "cell_type": "code",
   "execution_count": 3,
   "metadata": {},
   "outputs": [],
   "source": [
    "date_cols = [\"observation_date\"]\n",
    "oil_data = pd.read_excel(r'C:\\Users\\rayde\\Desktop\\BOOTCAMP_oil_profits_before_tax.xls', parse_dates=date_cols)"
   ]
  },
  {
   "cell_type": "code",
   "execution_count": 4,
   "metadata": {},
   "outputs": [
    {
     "data": {
      "text/html": [
       "<div>\n",
       "<style scoped>\n",
       "    .dataframe tbody tr th:only-of-type {\n",
       "        vertical-align: middle;\n",
       "    }\n",
       "\n",
       "    .dataframe tbody tr th {\n",
       "        vertical-align: top;\n",
       "    }\n",
       "\n",
       "    .dataframe thead th {\n",
       "        text-align: right;\n",
       "    }\n",
       "</style>\n",
       "<table border=\"1\" class=\"dataframe\">\n",
       "  <thead>\n",
       "    <tr style=\"text-align: right;\">\n",
       "      <th></th>\n",
       "      <th>observation_date</th>\n",
       "      <th>USA Corporate Profits Before Tax</th>\n",
       "      <th>Saudi_Arabia_Oil_Production</th>\n",
       "    </tr>\n",
       "  </thead>\n",
       "  <tbody>\n",
       "    <tr>\n",
       "      <th>0</th>\n",
       "      <td>2000-01-01</td>\n",
       "      <td>13984</td>\n",
       "      <td>8090000</td>\n",
       "    </tr>\n",
       "    <tr>\n",
       "      <th>1</th>\n",
       "      <td>2001-01-01</td>\n",
       "      <td>12992</td>\n",
       "      <td>7890000</td>\n",
       "    </tr>\n",
       "    <tr>\n",
       "      <th>2</th>\n",
       "      <td>2002-01-01</td>\n",
       "      <td>6731</td>\n",
       "      <td>7090000</td>\n",
       "    </tr>\n",
       "    <tr>\n",
       "      <th>3</th>\n",
       "      <td>2003-01-01</td>\n",
       "      <td>16511</td>\n",
       "      <td>8410000</td>\n",
       "    </tr>\n",
       "    <tr>\n",
       "      <th>4</th>\n",
       "      <td>2004-01-01</td>\n",
       "      <td>21660</td>\n",
       "      <td>8900000</td>\n",
       "    </tr>\n",
       "    <tr>\n",
       "      <th>5</th>\n",
       "      <td>2005-01-01</td>\n",
       "      <td>32455</td>\n",
       "      <td>9350000</td>\n",
       "    </tr>\n",
       "    <tr>\n",
       "      <th>6</th>\n",
       "      <td>2006-01-01</td>\n",
       "      <td>35145</td>\n",
       "      <td>9210000</td>\n",
       "    </tr>\n",
       "    <tr>\n",
       "      <th>7</th>\n",
       "      <td>2007-01-01</td>\n",
       "      <td>34456</td>\n",
       "      <td>8820000</td>\n",
       "    </tr>\n",
       "    <tr>\n",
       "      <th>8</th>\n",
       "      <td>2008-01-01</td>\n",
       "      <td>33709</td>\n",
       "      <td>9200000</td>\n",
       "    </tr>\n",
       "    <tr>\n",
       "      <th>9</th>\n",
       "      <td>2009-01-01</td>\n",
       "      <td>11873</td>\n",
       "      <td>8180000</td>\n",
       "    </tr>\n",
       "    <tr>\n",
       "      <th>10</th>\n",
       "      <td>2010-01-01</td>\n",
       "      <td>15611</td>\n",
       "      <td>8170000</td>\n",
       "    </tr>\n",
       "    <tr>\n",
       "      <th>11</th>\n",
       "      <td>2011-01-01</td>\n",
       "      <td>10530</td>\n",
       "      <td>9310000</td>\n",
       "    </tr>\n",
       "    <tr>\n",
       "      <th>12</th>\n",
       "      <td>2012-01-01</td>\n",
       "      <td>14431</td>\n",
       "      <td>9760000</td>\n",
       "    </tr>\n",
       "    <tr>\n",
       "      <th>13</th>\n",
       "      <td>2013-01-01</td>\n",
       "      <td>27226</td>\n",
       "      <td>9630000</td>\n",
       "    </tr>\n",
       "    <tr>\n",
       "      <th>14</th>\n",
       "      <td>2014-01-01</td>\n",
       "      <td>28948</td>\n",
       "      <td>9710000</td>\n",
       "    </tr>\n",
       "    <tr>\n",
       "      <th>15</th>\n",
       "      <td>2015-01-01</td>\n",
       "      <td>-4427</td>\n",
       "      <td>10190000</td>\n",
       "    </tr>\n",
       "    <tr>\n",
       "      <th>16</th>\n",
       "      <td>2016-01-01</td>\n",
       "      <td>-17797</td>\n",
       "      <td>10460000</td>\n",
       "    </tr>\n",
       "    <tr>\n",
       "      <th>17</th>\n",
       "      <td>2017-01-01</td>\n",
       "      <td>-7460</td>\n",
       "      <td>9950000</td>\n",
       "    </tr>\n",
       "  </tbody>\n",
       "</table>\n",
       "</div>"
      ],
      "text/plain": [
       "   observation_date  USA Corporate Profits Before Tax  \\\n",
       "0        2000-01-01                             13984   \n",
       "1        2001-01-01                             12992   \n",
       "2        2002-01-01                              6731   \n",
       "3        2003-01-01                             16511   \n",
       "4        2004-01-01                             21660   \n",
       "5        2005-01-01                             32455   \n",
       "6        2006-01-01                             35145   \n",
       "7        2007-01-01                             34456   \n",
       "8        2008-01-01                             33709   \n",
       "9        2009-01-01                             11873   \n",
       "10       2010-01-01                             15611   \n",
       "11       2011-01-01                             10530   \n",
       "12       2012-01-01                             14431   \n",
       "13       2013-01-01                             27226   \n",
       "14       2014-01-01                             28948   \n",
       "15       2015-01-01                             -4427   \n",
       "16       2016-01-01                            -17797   \n",
       "17       2017-01-01                             -7460   \n",
       "\n",
       "    Saudi_Arabia_Oil_Production  \n",
       "0                       8090000  \n",
       "1                       7890000  \n",
       "2                       7090000  \n",
       "3                       8410000  \n",
       "4                       8900000  \n",
       "5                       9350000  \n",
       "6                       9210000  \n",
       "7                       8820000  \n",
       "8                       9200000  \n",
       "9                       8180000  \n",
       "10                      8170000  \n",
       "11                      9310000  \n",
       "12                      9760000  \n",
       "13                      9630000  \n",
       "14                      9710000  \n",
       "15                     10190000  \n",
       "16                     10460000  \n",
       "17                      9950000  "
      ]
     },
     "execution_count": 4,
     "metadata": {},
     "output_type": "execute_result"
    }
   ],
   "source": [
    "oil_data"
   ]
  },
  {
   "cell_type": "markdown",
   "metadata": {},
   "source": [
    "U.S. corporate profits fall between the year 2000 to 2002 and then steadily rise until 2007, reaching a peak in year 2006. \n",
    "U.S. corporate profits fell sharply in year 2009, never fully rebounding. \n",
    "\n",
    "In 2013 and 2014, there was a nice bounce in corporate profits, but profits turned negative in 2015. \n",
    "\n",
    "Historical Context:\n",
    "In 2015, the United Nations lifted Iran Sanctions. In response, Iran drastically increased oil production, lowering oil prices drastically. Iran was not the only country to boost oil production during this time. Saudi Arabia also raised its production of oil."
   ]
  },
  {
   "cell_type": "code",
   "execution_count": 5,
   "metadata": {},
   "outputs": [
    {
     "data": {
      "image/png": "[encoded data removed]",
      "text/plain": [
       "<Figure size 432x288 with 1 Axes>"
      ]
     },
     "metadata": {
      "needs_background": "light"
     },
     "output_type": "display_data"
    }
   ],
   "source": [
    "x = oil_data['observation_date']\n",
    "y = oil_data['USA Corporate Profits Before Tax']\n",
    "\n",
    "plt.scatter(x, y)\n",
    "\n",
    "\n",
    "plt.xlabel('Year')\n",
    "plt.ylabel('USA Corporate Profits Before Tax')\n",
    "\n",
    "plt.title('USA Corporate Profits Before Tax by Year')\n",
    "\n",
    "plt.show()"
   ]
  },
  {
   "cell_type": "markdown",
   "metadata": {},
   "source": [
    "Hypothesis:\n",
    "As Saudi Arabia increases production of oil, prices should drop. \n",
    "As prices drop, U.S. corporate profits should fall along with prices.\n",
    "\n",
    "Countervailing factors exist where this relationship may wane. For example, a fall in demand for oil could explain periods where Saudi decreases in oil occur with a fall in USA profits. Additionaly, the United States cooperates with some OPEC countries like Saudi Arabia to stabilize global oil prices. This cooperation could also explain periods where the above hypothesis does not hold true.\n",
    "\n",
    "Data Analysis:\n",
    "Between the year 2000 - 2002, this logic did not apply. Instead Saudi Arabia production fell and U.S. corporate profits dropped. Then, Saudi Arabia production rebounded alongside U.S. corporate profits between 2003 - 2005.\n",
    "\n",
    "Again, breaking from the hypothesis, between 2009 - 2010, Saudi Arabia oil production fell sharply. This sharp drop in oil production accompanied a sharp drop in USA corporate profits. \n",
    "\n",
    "Still, there are periods where increases in Saudi oil production does occur during periods of falling profits in the United States or decreases in Saudi oil production accompanies rises in U.S. corporate profits. Recall, in 2006, U.S. Corporate Profits hit a peak. During this time between 2006 and 2007, Saudi Arabia decreased oil production slightly.\n",
    "\n",
    "By 2011, Saudi Arabia oil production rebounds, but U.S. corporate profits still lag behind. USA corporate profits do not rebound until 2013 and 2014. \n",
    "\n",
    "Saudi Arabia continues to maintain or increase oil production between the years 2011 - 2017, despite plummetting profits in USA."
   ]
  },
  {
   "cell_type": "code",
   "execution_count": 6,
   "metadata": {
    "scrolled": true
   },
   "outputs": [
    {
     "data": {
      "image/png": "[encoded data removed]",
      "text/plain": [
       "<Figure size 432x288 with 1 Axes>"
      ]
     },
     "metadata": {
      "needs_background": "light"
     },
     "output_type": "display_data"
    }
   ],
   "source": [
    "x = oil_data['observation_date']\n",
    "y = oil_data['Saudi_Arabia_Oil_Production']\n",
    "\n",
    "plt.scatter(x, y)\n",
    "\n",
    "plt.xlabel('Year')\n",
    "plt.ylabel('Saudi Arabia Oil Production')\n",
    "\n",
    "plt.title('Saudi Arabia Oil Production by Year')\n",
    "\n",
    "plt.show()"
   ]
  },
  {
   "cell_type": "raw",
   "metadata": {},
   "source": [
    "U.S. corporate oil extraction profits and Saudi Arabia oil production has a positive relationship below Saudi production levels of around 9210000. After this point, U.S. profits and Saudi Arabia oil production have a negative relationship.  "
   ]
  },
  {
   "cell_type": "code",
   "execution_count": 7,
   "metadata": {},
   "outputs": [
    {
     "data": {
      "image/png": "[encoded data removed]",
      "text/plain": [
       "<Figure size 432x288 with 1 Axes>"
      ]
     },
     "metadata": {
      "needs_background": "light"
     },
     "output_type": "display_data"
    }
   ],
   "source": [
    "x = oil_data['Saudi_Arabia_Oil_Production']\n",
    "y = oil_data['USA Corporate Profits Before Tax']\n",
    "\n",
    "plt.scatter(x, y)\n",
    "\n",
    "plt.xlabel('Saudi Arabia Oil Production')\n",
    "plt.ylabel('USA Corporate Profits Before Tax')\n",
    "\n",
    "plt.title('USA Corporate Profits Before Tax by Saudi Arabia Oil Production')\n",
    "\n",
    "plt.show()"
   ]
  },
  {
   "cell_type": "code",
   "execution_count": 13,
   "metadata": {},
   "outputs": [
    {
     "name": "stdout",
     "output_type": "stream",
     "text": [
      "                                        OLS Regression Results                                       \n",
      "=====================================================================================================\n",
      "Dep. Variable:     USA Corporate Profits Before Tax   R-squared (uncentered):                   0.516\n",
      "Model:                                          OLS   Adj. R-squared (uncentered):              0.488\n",
      "Method:                               Least Squares   F-statistic:                              18.16\n",
      "Date:                              Fri, 09 Oct 2020   Prob (F-statistic):                    0.000527\n",
      "Time:                                      21:53:20   Log-Likelihood:                         -198.69\n",
      "No. Observations:                                18   AIC:                                      399.4\n",
      "Df Residuals:                                    17   BIC:                                      400.3\n",
      "Df Model:                                         1                                                  \n",
      "Covariance Type:                          nonrobust                                                  \n",
      "===============================================================================================\n",
      "                                  coef    std err          t      P>|t|      [0.025      0.975]\n",
      "-----------------------------------------------------------------------------------------------\n",
      "Saudi_Arabia_Oil_Production     0.0017      0.000      4.261      0.001       0.001       0.003\n",
      "==============================================================================\n",
      "Omnibus:                        3.131   Durbin-Watson:                   0.575\n",
      "Prob(Omnibus):                  0.209   Jarque-Bera (JB):                1.899\n",
      "Skew:                          -0.796   Prob(JB):                        0.387\n",
      "Kurtosis:                       3.035   Cond. No.                         1.00\n",
      "==============================================================================\n",
      "\n",
      "Warnings:\n",
      "[1] Standard Errors assume that the covariance matrix of the errors is correctly specified.\n"
     ]
    }
   ],
   "source": [
    "x = oil_data['Saudi_Arabia_Oil_Production']\n",
    "y = oil_data['USA Corporate Profits Before Tax']\n",
    "const = sm.add_constant(x) # adding a constant\n",
    " \n",
    "model = sm.OLS(y, x).fit()\n",
    "predictions = model.predict(x) \n",
    "print_model = model.summary()\n",
    "print(print_model)"
   ]
  },
  {
   "cell_type": "markdown",
   "metadata": {},
   "source": []
  }
 ],
 "metadata": {
  "kernelspec": {
   "display_name": "Python 3",
   "language": "python",
   "name": "python3"
  },
  "language_info": {
   "codemirror_mode": {
    "name": "ipython",
    "version": 3
   },
   "file_extension": ".py",
   "mimetype": "text/x-python",
   "name": "python",
   "nbconvert_exporter": "python",
   "pygments_lexer": "ipython3",
   "version": "3.7.5"
  }
 },
 "nbformat": 4,
 "nbformat_minor": 2
}
